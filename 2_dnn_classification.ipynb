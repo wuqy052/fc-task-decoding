{
 "cells": [
  {
   "cell_type": "code",
   "execution_count": 2,
   "id": "2b562db1-f0c4-493d-b5ea-42e24380a40d",
   "metadata": {
    "tags": []
   },
   "outputs": [],
   "source": [
    "import os, glob\n",
    "import numpy as np\n",
    "import pandas as pd\n",
    "from sklearn.utils import shuffle\n",
    "import torch\n",
    "from torch import nn\n",
    "from torch.utils.data import DataLoader, TensorDataset\n",
    "#from torchvision.transforms import ToTensor\n",
    "from sklearn.model_selection import StratifiedKFold\n",
    "import matplotlib.pyplot as plt\n",
    "#import tensorflow"
   ]
  },
  {
   "cell_type": "code",
   "execution_count": 3,
   "id": "d9d51a4a-ba4c-42c5-92db-655f65172706",
   "metadata": {
    "tags": []
   },
   "outputs": [],
   "source": [
    "num_roi = 128\n",
    "num_tasks = 4"
   ]
  },
  {
   "cell_type": "code",
   "execution_count": 4,
   "id": "4e5c17bf-b697-4a40-99ef-c3d37ece806f",
   "metadata": {
    "tags": []
   },
   "outputs": [],
   "source": [
    "def get_tensor(sub_data):\n",
    "    \"\"\"\n",
    "    this function take each subject's connectivity dataframe, and convert them to input and label\n",
    "    returns: X = 1d-array connectivity input; y = 1d-array task label\n",
    "    \"\"\"\n",
    "    #remove self correlations\n",
    "    sub_data = sub_data.loc[sub_data.level_0 != sub_data.level_1]\n",
    "    #get only lower triangle\n",
    "    sub_data = sub_data.sort_values(by='correlation').iloc[::2, :]\n",
    "    #sanity check\n",
    "    assert(len(sub_data['correlation'])) == num_roi*(num_roi-1)/2*num_tasks\n",
    "        \n",
    "    #separate into input and label\n",
    "    mydict = sub_data.sort_values(by=['task', 'level_0', 'level_1']).groupby('task')['correlation'].apply(list)\n",
    "    labels = [i for i,v in enumerate(mydict.keys())]\n",
    "    data = [i for i in mydict]\n",
    "    #turn to tensor: input and label\n",
    "    X = torch.from_numpy(np.hstack(data).reshape(4, -1))\n",
    "    #y = torch.nn.functional.one_hot(torch.tensor(labels))\n",
    "    y = torch.tensor(labels)\n",
    "    return X, y"
   ]
  },
  {
   "cell_type": "code",
   "execution_count": 5,
   "id": "78e4bcf5-ac10-48a8-acad-92c532c945ca",
   "metadata": {
    "tags": []
   },
   "outputs": [],
   "source": [
    "#load data\n",
    "def load_data():\n",
    "    \"\"\"\n",
    "    this function reads all subject connectivity data and returns all inputs and labels\n",
    "    look at get tensor for specifics\n",
    "    \"\"\"\n",
    "    all_inputs = torch.tensor([])\n",
    "    all_labels = torch.tensor([])\n",
    "    for i in os.listdir('processed_data'):\n",
    "        try:\n",
    "            sub_data = pd.read_csv('processed_data/' + i, index_col=[0])\n",
    "            X, y = get_tensor(sub_data)\n",
    "            all_inputs = torch.cat([all_inputs, X])\n",
    "            all_labels = torch.cat([all_labels, y])    \n",
    "        except:\n",
    "            pass\n",
    "        \n",
    "    #make sure they are of the same size\n",
    "    assert(torch.Tensor.size(all_inputs)[0] == torch.Tensor.size(all_labels)[0])\n",
    "    return all_inputs, all_labels"
   ]
  },
  {
   "cell_type": "code",
   "execution_count": 6,
   "id": "3f98127f-43bc-4500-9d77-43353a2d49fe",
   "metadata": {
    "tags": []
   },
   "outputs": [
    {
     "data": {
      "text/plain": [
       "556"
      ]
     },
     "execution_count": 6,
     "metadata": {},
     "output_type": "execute_result"
    }
   ],
   "source": [
    "all_inputs, all_labels = load_data()\n",
    "len(all_inputs)"
   ]
  },
  {
   "cell_type": "code",
   "execution_count": 7,
   "id": "a1cf5b7d-db85-4d79-a907-435b6338ee06",
   "metadata": {
    "tags": []
   },
   "outputs": [],
   "source": [
    "#load subdata\n",
    "\n",
    "# sub = 'sub-10249'\n",
    "# sub_data = pd.read_csv('processed_data/' + sub + '.csv', index_col=[0])\n",
    "# #remove self correlations\n",
    "# sub_data = sub_data.loc[sub_data.level_0 != sub_data.level_1]\n",
    "# #get only lower triangle\n",
    "# sub_data = sub_data.sort_values(by='correlation').iloc[::2, :]\n",
    "# sub_data.head()"
   ]
  },
  {
   "cell_type": "code",
   "execution_count": 65,
   "id": "b7441488-7f62-4237-9cc8-7dfa6bfe5084",
   "metadata": {
    "tags": []
   },
   "outputs": [],
   "source": [
    "# Define model\n",
    "class NeuralNetwork(torch.nn.Module):\n",
    "    def __init__(self):\n",
    "        super(NeuralNetwork, self).__init__()\n",
    "        self.flatten = torch.nn.Flatten()\n",
    "        self.linear_relu_stack = torch.nn.Sequential(\n",
    "            torch.nn.Linear(int(num_roi*(num_roi-1)/2), 4096),\n",
    "            torch.nn.LeakyReLU(0.1),\n",
    "            torch.nn.Linear(4096, 1024),\n",
    "            torch.nn.LeakyReLU(0.1),\n",
    "            torch.nn.Linear(1024, 512),\n",
    "            torch.nn.LeakyReLU(0.1),\n",
    "            torch.nn.Linear(512, 32),\n",
    "            torch.nn.LeakyReLU(0.1),\n",
    "            torch.nn.Linear(32, num_tasks),\n",
    "            torch.nn.Softmax(dim=1)\n",
    "        )\n",
    "        \n",
    "    def forward(self, x):\n",
    "        x = self.flatten(x)\n",
    "        logits = self.linear_relu_stack(x)\n",
    "        return logits\n",
    "#print(model)"
   ]
  },
  {
   "cell_type": "code",
   "execution_count": 52,
   "id": "2d459c0f-b5ef-41ff-bd1c-bd8af0a204b3",
   "metadata": {
    "tags": []
   },
   "outputs": [
    {
     "data": {
      "text/plain": [
       "556"
      ]
     },
     "execution_count": 52,
     "metadata": {},
     "output_type": "execute_result"
    }
   ],
   "source": [
    "len(all_inputs)"
   ]
  },
  {
   "cell_type": "code",
   "execution_count": 61,
   "id": "c581036d-3890-49e7-a543-b568173d3f48",
   "metadata": {
    "tags": []
   },
   "outputs": [],
   "source": [
    "batch_size = 80\n",
    "batch_num = int(np.ceil(len(all_inputs)/batch_size))\n",
    "num_folds = 10\n",
    "kfold = StratifiedKFold(n_splits=num_folds, shuffle=True)\n",
    "all_inputs = all_inputs.to(torch.float32)\n",
    "all_labels = all_labels.type(torch.LongTensor)\n",
    "dataset = TensorDataset(all_inputs, all_labels)\n",
    "num_epochs = 100\n",
    "lr = 0.65"
   ]
  },
  {
   "cell_type": "code",
   "execution_count": 11,
   "id": "68b11f0f-e746-411d-b556-24ca4d58ffd4",
   "metadata": {
    "tags": []
   },
   "outputs": [],
   "source": [
    "# for fold, (train_indices, val_indices) in enumerate(kfold.split(all_inputs, all_labels)):\n",
    "#     print(f\"Fold {fold + 1}/{num_folds}\")\n",
    "    \n",
    "#     # Create data loaders for training and validation sets\n",
    "#     train_sampler = torch.utils.data.SubsetRandomSampler(train_indices)\n",
    "#     train_loader = DataLoader(dataset, batch_size=batch_size, sampler=train_sampler)\n",
    "    \n",
    "#     val_sampler = torch.utils.data.SubsetRandomSampler(val_indices)\n",
    "#     val_loader = DataLoader(dataset, batch_size=batch_size, sampler=val_sampler)\n",
    "    \n",
    "#     # Initialize the neural network\n",
    "#     model = NeuralNetwork()\n",
    "    \n",
    "#     # Define loss function and optimizer\n",
    "#     loss_fn = torch.nn.CrossEntropyLoss()\n",
    "#     optimizer = torch.optim.Adam(model.parameters(), lr=lr)\n",
    "    \n",
    "#     for epoch in range(num_epochs):\n",
    "#         model.train()\n",
    "#         total_loss = 0\n",
    "        \n",
    "#         for inputs, labels in train_loader:\n",
    "#             # Initialize optimizer\n",
    "#             optimizer.zero_grad()\n",
    "#             # Compute prediction and loss:\n",
    "#             outputs = model(inputs)\n",
    "#             loss = loss_fn(outputs, labels)\n",
    "#             # Backpropagation\n",
    "#             loss.backward()\n",
    "#             optimizer.step()\n",
    "#             total_loss += loss.item()\n",
    "            \n",
    "#         print(f\"Epoch [{epoch+1}/{num_epochs}] - Loss: {total_loss}\")\n",
    "        \n",
    "#         # Validation loop\n",
    "#         model.eval()\n",
    "#         correct = 0\n",
    "#         total = 0\n",
    "\n",
    "#         with torch.no_grad():\n",
    "#             for inputs, labels in val_loader:\n",
    "#                 outputs = model(inputs)\n",
    "#                 _, predicted = torch.max(outputs.data, 1)\n",
    "#                 total += labels.size(0)\n",
    "#                 correct += (predicted == labels).sum().item()\n",
    "\n",
    "#         accuracy = correct / total\n",
    "#         print(f\"Validation Accuracy: {accuracy}\")\n",
    "#         print(\"-\" * 40)"
   ]
  },
  {
   "cell_type": "code",
   "execution_count": 88,
   "id": "7fe54033-d5b9-4ed0-b79a-d82932148900",
   "metadata": {
    "tags": []
   },
   "outputs": [
    {
     "name": "stdout",
     "output_type": "stream",
     "text": [
      "loss: 1.386778  [    9/100]\n",
      "train accuracy: 0.25\n",
      "loss: 1.385445  [   19/100]\n",
      "train accuracy: 0.25\n",
      "loss: 1.383895  [   29/100]\n",
      "train accuracy: 0.25\n",
      "loss: 1.382027  [   39/100]\n",
      "train accuracy: 0.25\n",
      "loss: 1.379220  [   49/100]\n",
      "train accuracy: 0.25\n",
      "loss: 1.375264  [   59/100]\n",
      "train accuracy: 0.3\n",
      "loss: 1.368630  [   69/100]\n",
      "train accuracy: 0.65\n",
      "loss: 1.352562  [   79/100]\n",
      "train accuracy: 0.8\n",
      "loss: 1.277353  [   89/100]\n",
      "train accuracy: 0.5\n",
      "loss: 1.172299  [   99/100]\n",
      "train accuracy: 0.8\n",
      "Validation Accuracy: 0.35714285714285715\n",
      "loss: 1.385360  [    9/100]\n",
      "train accuracy: 0.4\n",
      "loss: 1.383992  [   19/100]\n",
      "train accuracy: 0.5\n",
      "loss: 1.382365  [   29/100]\n",
      "train accuracy: 0.5\n",
      "loss: 1.380245  [   39/100]\n",
      "train accuracy: 0.65\n",
      "loss: 1.377347  [   49/100]\n",
      "train accuracy: 0.95\n",
      "loss: 1.372985  [   59/100]\n",
      "train accuracy: 1.0\n",
      "loss: 1.364974  [   69/100]\n",
      "train accuracy: 0.9\n",
      "loss: 1.343277  [   79/100]\n",
      "train accuracy: 0.7\n",
      "loss: 1.242310  [   89/100]\n",
      "train accuracy: 0.75\n",
      "loss: 1.180040  [   99/100]\n",
      "train accuracy: 0.75\n",
      "Validation Accuracy: 0.42857142857142855\n",
      "loss: 1.386242  [    9/100]\n",
      "train accuracy: 0.25\n",
      "loss: 1.385310  [   19/100]\n",
      "train accuracy: 0.25\n",
      "loss: 1.384349  [   29/100]\n",
      "train accuracy: 0.25\n",
      "loss: 1.383240  [   39/100]\n",
      "train accuracy: 0.25\n",
      "loss: 1.381909  [   49/100]\n",
      "train accuracy: 0.25\n",
      "loss: 1.380095  [   59/100]\n",
      "train accuracy: 0.25\n",
      "loss: 1.377581  [   69/100]\n",
      "train accuracy: 0.25\n",
      "loss: 1.374073  [   79/100]\n",
      "train accuracy: 0.65\n",
      "loss: 1.368663  [   89/100]\n",
      "train accuracy: 0.8\n",
      "loss: 1.358569  [   99/100]\n",
      "train accuracy: 0.8\n",
      "Validation Accuracy: 0.375\n",
      "loss: 1.385868  [    9/100]\n",
      "train accuracy: 0.2\n",
      "loss: 1.384293  [   19/100]\n",
      "train accuracy: 0.2\n",
      "loss: 1.382643  [   29/100]\n",
      "train accuracy: 0.4\n",
      "loss: 1.380684  [   39/100]\n",
      "train accuracy: 0.8\n",
      "loss: 1.378158  [   49/100]\n",
      "train accuracy: 1.0\n",
      "loss: 1.374755  [   59/100]\n",
      "train accuracy: 0.95\n",
      "loss: 1.369545  [   69/100]\n",
      "train accuracy: 0.95\n",
      "loss: 1.360652  [   79/100]\n",
      "train accuracy: 0.8\n",
      "loss: 1.341529  [   89/100]\n",
      "train accuracy: 0.75\n",
      "loss: 1.265000  [   99/100]\n",
      "train accuracy: 0.75\n",
      "Validation Accuracy: 0.3392857142857143\n",
      "loss: 1.388912  [    9/100]\n",
      "train accuracy: 0.25\n",
      "loss: 1.387687  [   19/100]\n",
      "train accuracy: 0.25\n",
      "loss: 1.386449  [   29/100]\n",
      "train accuracy: 0.25\n",
      "loss: 1.385072  [   39/100]\n",
      "train accuracy: 0.25\n",
      "loss: 1.383442  [   49/100]\n",
      "train accuracy: 0.25\n",
      "loss: 1.381459  [   59/100]\n",
      "train accuracy: 0.4\n",
      "loss: 1.378841  [   69/100]\n",
      "train accuracy: 0.45\n",
      "loss: 1.374930  [   79/100]\n",
      "train accuracy: 0.45\n",
      "loss: 1.367777  [   89/100]\n",
      "train accuracy: 0.45\n",
      "loss: 1.351745  [   99/100]\n",
      "train accuracy: 0.45\n",
      "Validation Accuracy: 0.39285714285714285\n",
      "loss: 1.385518  [    9/100]\n",
      "train accuracy: 0.25\n",
      "loss: 1.384197  [   19/100]\n",
      "train accuracy: 0.25\n",
      "loss: 1.382841  [   29/100]\n",
      "train accuracy: 0.25\n",
      "loss: 1.381305  [   39/100]\n",
      "train accuracy: 0.3\n",
      "loss: 1.379451  [   49/100]\n",
      "train accuracy: 0.55\n",
      "loss: 1.377021  [   59/100]\n",
      "train accuracy: 0.6\n",
      "loss: 1.373445  [   69/100]\n",
      "train accuracy: 0.75\n",
      "loss: 1.367711  [   79/100]\n",
      "train accuracy: 0.75\n",
      "loss: 1.356517  [   89/100]\n",
      "train accuracy: 1.0\n",
      "loss: 1.319232  [   99/100]\n",
      "train accuracy: 0.7\n",
      "Validation Accuracy: 0.25\n",
      "loss: 1.387288  [    9/100]\n",
      "train accuracy: 0.42857142857142855\n",
      "loss: 1.386325  [   19/100]\n",
      "train accuracy: 0.42857142857142855\n",
      "loss: 1.385114  [   29/100]\n",
      "train accuracy: 0.38095238095238093\n",
      "loss: 1.383529  [   39/100]\n",
      "train accuracy: 0.38095238095238093\n",
      "loss: 1.381337  [   49/100]\n",
      "train accuracy: 0.3333333333333333\n",
      "loss: 1.378129  [   59/100]\n",
      "train accuracy: 0.47619047619047616\n",
      "loss: 1.371806  [   69/100]\n",
      "train accuracy: 0.6190476190476191\n",
      "loss: 1.355117  [   79/100]\n",
      "train accuracy: 0.5714285714285714\n",
      "loss: 1.265921  [   89/100]\n",
      "train accuracy: 0.38095238095238093\n",
      "loss: 1.184197  [   99/100]\n",
      "train accuracy: 0.5238095238095238\n",
      "Validation Accuracy: 0.4\n",
      "loss: 1.383972  [    9/100]\n",
      "train accuracy: 0.2857142857142857\n",
      "loss: 1.382689  [   19/100]\n",
      "train accuracy: 0.2857142857142857\n",
      "loss: 1.381169  [   29/100]\n",
      "train accuracy: 0.2857142857142857\n",
      "loss: 1.379418  [   39/100]\n",
      "train accuracy: 0.2857142857142857\n",
      "loss: 1.376993  [   49/100]\n",
      "train accuracy: 0.2857142857142857\n",
      "loss: 1.373456  [   59/100]\n",
      "train accuracy: 0.5714285714285714\n",
      "loss: 1.367544  [   69/100]\n",
      "train accuracy: 0.5714285714285714\n",
      "loss: 1.355026  [   79/100]\n",
      "train accuracy: 0.5714285714285714\n",
      "loss: 1.305312  [   89/100]\n",
      "train accuracy: 0.5714285714285714\n",
      "loss: 1.171880  [   99/100]\n",
      "train accuracy: 0.7142857142857143\n",
      "Validation Accuracy: 0.36363636363636365\n",
      "loss: 1.383295  [    9/100]\n",
      "train accuracy: 0.2857142857142857\n",
      "loss: 1.382089  [   19/100]\n",
      "train accuracy: 0.2857142857142857\n",
      "loss: 1.380825  [   29/100]\n",
      "train accuracy: 0.2857142857142857\n",
      "loss: 1.379378  [   39/100]\n",
      "train accuracy: 0.2857142857142857\n",
      "loss: 1.377535  [   49/100]\n",
      "train accuracy: 0.3333333333333333\n",
      "loss: 1.374868  [   59/100]\n",
      "train accuracy: 0.47619047619047616\n",
      "loss: 1.370273  [   69/100]\n",
      "train accuracy: 0.6666666666666666\n",
      "loss: 1.362234  [   79/100]\n",
      "train accuracy: 0.8095238095238095\n",
      "loss: 1.341038  [   89/100]\n",
      "train accuracy: 0.8095238095238095\n",
      "loss: 1.244217  [   99/100]\n",
      "train accuracy: 0.6190476190476191\n",
      "Validation Accuracy: 0.23636363636363636\n",
      "loss: 1.384210  [    9/100]\n",
      "train accuracy: 0.2857142857142857\n",
      "loss: 1.381939  [   19/100]\n",
      "train accuracy: 0.2857142857142857\n",
      "loss: 1.379013  [   29/100]\n",
      "train accuracy: 0.2857142857142857\n",
      "loss: 1.375289  [   39/100]\n",
      "train accuracy: 0.2857142857142857\n",
      "loss: 1.369675  [   49/100]\n",
      "train accuracy: 0.5714285714285714\n",
      "loss: 1.359296  [   59/100]\n",
      "train accuracy: 0.7142857142857143\n",
      "loss: 1.329955  [   69/100]\n",
      "train accuracy: 0.5714285714285714\n",
      "loss: 1.191498  [   79/100]\n",
      "train accuracy: 0.5714285714285714\n",
      "loss: 1.077345  [   89/100]\n",
      "train accuracy: 0.5714285714285714\n",
      "loss: 0.965085  [   99/100]\n",
      "train accuracy: 0.8095238095238095\n",
      "Validation Accuracy: 0.41818181818181815\n"
     ]
    }
   ],
   "source": [
    "#cross validation\n",
    "for fold, (train_indices, test_indices) in enumerate(kfold.split(all_inputs, all_labels)):\n",
    "    #get data\n",
    "    train_X = all_inputs[train_indices]\n",
    "    train_y = all_labels[train_indices]\n",
    "    test_X = all_inputs[test_indices]\n",
    "    test_y = all_labels[test_indices]\n",
    "    \n",
    "    #Initialize the neural network\n",
    "    model = NeuralNetwork()\n",
    "    loss_fn = torch.nn.CrossEntropyLoss()\n",
    "    optimizer = torch.optim.SGD(model.parameters(), lr=0.07, weight_decay=1e-5) #l2 regularization\n",
    "    #train\n",
    "    model, pred, all_loss = train(model, train_X, train_y)\n",
    "    #test\n",
    "    acc, pred = test(model, test_X, test_y)"
   ]
  },
  {
   "cell_type": "code",
   "execution_count": 49,
   "id": "771169ae-93fd-48e8-a3bc-124273dd527d",
   "metadata": {},
   "outputs": [],
   "source": [
    "#size = len(train_dataloader.dataset)\n",
    "def train(model,\n",
    "          all_inputs, \n",
    "          all_labels, \n",
    "          batch_num = batch_num,\n",
    "          batch_size = batch_size,\n",
    "          num_epochs=num_epochs):\n",
    "    \n",
    "    all_loss = [] #record loss\n",
    "    for epoch in range(num_epochs):\n",
    "        #shuffle\n",
    "        #all_inputs, all_labels = shuffle(all_inputs, all_labels, random_state = epoch)\n",
    "\n",
    "        # Walk through each training batch:\n",
    "        for i in range(batch_num):\n",
    "            #get batch X and y\n",
    "            batch_X = all_inputs[i*batch_size: min((i+1)*batch_size, len(all_inputs))]\n",
    "            batch_y = all_labels[i*batch_size: min((i+1)*batch_size, len(all_labels))]\n",
    "\n",
    "            # Compute prediction and loss:\n",
    "            pred = model(batch_X)\n",
    "            loss = loss_fn(pred, batch_y)\n",
    "\n",
    "            # Backpropagation\n",
    "            optimizer.zero_grad()\n",
    "            loss.backward()\n",
    "            optimizer.step()\n",
    "\n",
    "        # Print out a status message every so often.\n",
    "        if (1+epoch)%10==0:\n",
    "            #get loss and accuracy\n",
    "            (loss, current) = (loss.item(), epoch)\n",
    "            all_loss.append(loss)\n",
    "            accuracy = (torch.Tensor.argmax(pred, axis=1)==batch_y).sum().item() / len(pred)\n",
    "\n",
    "            print(f\"loss: {loss:>7f}  [{current:>5d}/{num_epochs}]\")\n",
    "            print(f\"train accuracy: {accuracy}\")\n",
    "    return model, pred, all_loss"
   ]
  },
  {
   "cell_type": "code",
   "execution_count": 39,
   "id": "0991c740-de09-4883-a68e-23657c9ab3e7",
   "metadata": {
    "tags": []
   },
   "outputs": [],
   "source": [
    "def test(model, \n",
    "        all_inputs,\n",
    "        all_labels):\n",
    "    \n",
    "    correct = 0\n",
    "    total = 0\n",
    "    \n",
    "    with torch.no_grad():\n",
    "        outputs = model(all_inputs)\n",
    "        pred = torch.Tensor.argmax(outputs, axis=1)\n",
    "        total += len(all_labels)\n",
    "        correct += (pred == all_labels).sum().item()\n",
    "    accuracy = correct / total\n",
    "    print(f\"Validation Accuracy: {accuracy}\")\n",
    "    \n",
    "    return accuracy, pred"
   ]
  },
  {
   "cell_type": "code",
   "execution_count": 63,
   "id": "f5b98db6-153b-4924-acc5-7a75c5696465",
   "metadata": {
    "tags": []
   },
   "outputs": [],
   "source": [
    "train_X = all_inputs[0:500,:]\n",
    "train_y = all_labels[0:500]\n",
    "\n",
    "test_X = all_inputs[500:, :]\n",
    "test_y = all_labels[500:]"
   ]
  },
  {
   "cell_type": "code",
   "execution_count": 84,
   "id": "2313b06b-87b0-4d94-84fc-e8f3d876ecca",
   "metadata": {
    "tags": []
   },
   "outputs": [],
   "source": [
    "#initialize\n",
    "model = NeuralNetwork()\n",
    "loss_fn = torch.nn.CrossEntropyLoss()\n",
    "optimizer = torch.optim.SGD(model.parameters(), lr=0.07)"
   ]
  },
  {
   "cell_type": "code",
   "execution_count": 85,
   "id": "afb0a180-28b5-4ae2-83b2-a912fa46baf2",
   "metadata": {
    "tags": []
   },
   "outputs": [
    {
     "name": "stdout",
     "output_type": "stream",
     "text": [
      "loss: 1.385948  [    9/100]\n",
      "train accuracy: 0.25\n",
      "loss: 1.385207  [   19/100]\n",
      "train accuracy: 0.25\n",
      "loss: 1.384462  [   29/100]\n",
      "train accuracy: 0.25\n",
      "loss: 1.383692  [   39/100]\n",
      "train accuracy: 0.25\n",
      "loss: 1.382839  [   49/100]\n",
      "train accuracy: 0.35\n",
      "loss: 1.381814  [   59/100]\n",
      "train accuracy: 0.45\n",
      "loss: 1.380494  [   69/100]\n",
      "train accuracy: 0.5\n",
      "loss: 1.378784  [   79/100]\n",
      "train accuracy: 0.55\n",
      "loss: 1.376482  [   89/100]\n",
      "train accuracy: 0.75\n",
      "loss: 1.372759  [   99/100]\n",
      "train accuracy: 0.75\n"
     ]
    }
   ],
   "source": [
    "num_epochs = 100\n",
    "model, pred, all_loss = train(model, train_X, train_y, num_epochs=num_epochs)"
   ]
  },
  {
   "cell_type": "code",
   "execution_count": 86,
   "id": "a4ac5027-eabc-4004-8538-55c214dc20a6",
   "metadata": {
    "tags": []
   },
   "outputs": [
    {
     "data": {
      "text/plain": [
       "[<matplotlib.lines.Line2D at 0x7f84cf8536d0>]"
      ]
     },
     "execution_count": 86,
     "metadata": {},
     "output_type": "execute_result"
    },
    {
     "data": {
      "image/png": "[encoded data removed]",
      "text/plain": [
       "<Figure size 640x480 with 1 Axes>"
      ]
     },
     "metadata": {},
     "output_type": "display_data"
    }
   ],
   "source": [
    "plt.plot(all_loss)"
   ]
  },
  {
   "cell_type": "code",
   "execution_count": 87,
   "id": "99553893-02ca-4a7f-9f2c-dc75c91170d1",
   "metadata": {
    "tags": []
   },
   "outputs": [
    {
     "name": "stdout",
     "output_type": "stream",
     "text": [
      "Validation Accuracy: 0.3392857142857143\n"
     ]
    },
    {
     "data": {
      "text/plain": [
       "tensor([2, 2, 2, 2, 2, 1, 2, 2, 2, 2, 2, 2, 2, 1, 2, 2, 2, 2, 2, 2, 2, 1, 2, 2,\n",
       "        1, 2, 2, 2, 2, 2, 2, 2, 2, 2, 2, 2, 2, 1, 2, 2, 2, 2, 2, 2, 2, 2, 2, 2,\n",
       "        2, 1, 2, 2, 2, 2, 2, 2])"
      ]
     },
     "execution_count": 87,
     "metadata": {},
     "output_type": "execute_result"
    }
   ],
   "source": [
    "acc, pred = test(model, test_X, test_y)\n",
    "pred"
   ]
  },
  {
   "cell_type": "code",
   "execution_count": null,
   "id": "78082dbd-1be9-4387-8189-ecfe1e63c190",
   "metadata": {},
   "outputs": [],
   "source": []
  },
  {
   "cell_type": "code",
   "execution_count": 42,
   "id": "e7bafc44-3975-474a-b91b-90b34bfe8993",
   "metadata": {
    "tags": []
   },
   "outputs": [
    {
     "data": {
      "text/plain": [
       "tensor([2, 2, 3, 2, 0, 2, 0, 1, 0, 1, 2, 3, 1, 0, 1, 0, 1, 0, 2, 1, 2, 3, 2, 0,\n",
       "        1, 3, 1, 1, 1, 3, 1, 2, 0, 2, 2, 2, 2, 2, 3, 0, 3, 1, 1, 3, 1, 3, 1, 2,\n",
       "        0, 3, 0, 1, 1, 3, 1, 0, 0, 3, 1, 0, 2, 1, 1, 2, 2, 2, 2, 2, 2, 1, 3, 0,\n",
       "        0, 2, 2, 3, 3, 0, 1, 2, 3, 0, 1, 0, 3, 0, 3, 0, 3, 0, 2, 3, 0, 1, 2, 3,\n",
       "        3, 0, 3, 2, 1, 0, 2, 1, 0, 2, 0, 2, 3, 3, 3])"
      ]
     },
     "execution_count": 42,
     "metadata": {},
     "output_type": "execute_result"
    }
   ],
   "source": []
  },
  {
   "cell_type": "code",
   "execution_count": 43,
   "id": "2522d8d5-abc4-47b0-84f8-5452773bc165",
   "metadata": {
    "tags": []
   },
   "outputs": [
    {
     "data": {
      "text/plain": [
       "tensor([2, 2, 3, 2, 0, 2, 0, 1, 0, 1, 2, 3, 1, 0, 1, 0, 1, 0, 2, 1, 2, 3, 0, 0,\n",
       "        1, 3, 2, 1, 1, 3, 1, 2, 0, 2, 2, 2, 2, 2, 3, 0, 3, 1, 1, 0, 1, 3, 1, 2,\n",
       "        0, 3, 0, 1, 1, 3, 1, 0, 0, 3, 1, 0, 2, 1, 1, 2, 2, 2, 2, 2, 2, 1, 3, 0,\n",
       "        0, 2, 2, 3, 3, 0, 1, 2, 3, 0, 1, 0, 3, 0, 3, 0, 3, 0, 2, 3, 0, 1, 2, 3,\n",
       "        3, 0, 3, 2, 1, 0, 2, 1, 0, 2, 0, 2, 3, 3, 3])"
      ]
     },
     "execution_count": 43,
     "metadata": {},
     "output_type": "execute_result"
    }
   ],
   "source": [
    "batch_y"
   ]
  },
  {
   "cell_type": "code",
   "execution_count": 44,
   "id": "867f11ae-3e48-4a7f-8f8e-22b982fe64bb",
   "metadata": {
    "tags": []
   },
   "outputs": [
    {
     "data": {
      "text/plain": [
       "tensor([[5.6495e-05, 8.9299e-04, 9.9905e-01, 8.5277e-08],\n",
       "        [1.8250e-04, 8.1147e-04, 9.9901e-01, 2.6857e-07],\n",
       "        [1.5620e-08, 1.9710e-22, 1.1894e-17, 1.0000e+00],\n",
       "        [1.3034e-04, 7.3710e-04, 9.9913e-01, 1.6838e-07],\n",
       "        [9.9817e-01, 1.3569e-07, 1.3035e-03, 5.2380e-04],\n",
       "        [9.5385e-05, 7.7177e-04, 9.9913e-01, 1.2550e-07],\n",
       "        [9.9858e-01, 3.7874e-08, 4.7156e-04, 9.5324e-04],\n",
       "        [1.6951e-21, 9.9884e-01, 1.1646e-03, 8.3888e-21],\n",
       "        [9.9785e-01, 1.7551e-07, 1.6934e-03, 4.5244e-04],\n",
       "        [3.7453e-35, 1.0000e+00, 4.5865e-07, 1.4012e-33],\n",
       "        [1.5833e-05, 1.2461e-03, 9.9874e-01, 3.1998e-08],\n",
       "        [2.6254e-09, 2.2762e-24, 2.9539e-19, 1.0000e+00],\n",
       "        [4.2957e-24, 9.9977e-01, 2.2569e-04, 3.0484e-23],\n",
       "        [9.9829e-01, 1.1212e-07, 1.0418e-03, 6.7296e-04],\n",
       "        [5.7954e-22, 9.9904e-01, 9.5514e-04, 3.1111e-21],\n",
       "        [9.9719e-01, 2.5562e-07, 2.3928e-03, 4.1524e-04],\n",
       "        [2.9394e-24, 9.9975e-01, 2.5473e-04, 2.1946e-23],\n",
       "        [9.9758e-01, 2.1052e-07, 1.9799e-03, 4.4123e-04],\n",
       "        [4.2400e-05, 1.0151e-03, 9.9894e-01, 7.2557e-08],\n",
       "        [5.6152e-22, 9.9899e-01, 1.0094e-03, 3.0185e-21],\n",
       "        [3.4495e-04, 5.4987e-04, 9.9910e-01, 3.4220e-07],\n",
       "        [5.9322e-08, 3.3326e-21, 1.3934e-16, 1.0000e+00],\n",
       "        [2.8505e-11, 4.2822e-01, 5.7178e-01, 8.9552e-12],\n",
       "        [9.9789e-01, 1.7300e-07, 1.6480e-03, 4.6030e-04],\n",
       "        [2.2437e-22, 9.9934e-01, 6.6343e-04, 1.2414e-21],\n",
       "        [1.4447e-04, 5.5838e-15, 6.6250e-11, 9.9986e-01],\n",
       "        [4.7965e-25, 9.9984e-01, 1.5842e-04, 4.0018e-24],\n",
       "        [7.7333e-37, 1.0000e+00, 1.3859e-07, 3.6767e-35],\n",
       "        [1.0429e-24, 9.9985e-01, 1.5041e-04, 8.0191e-24],\n",
       "        [2.7573e-28, 0.0000e+00, 0.0000e+00, 1.0000e+00],\n",
       "        [3.3490e-25, 9.9987e-01, 1.2529e-04, 2.8063e-24],\n",
       "        [9.6363e-05, 8.4803e-04, 9.9906e-01, 1.4239e-07],\n",
       "        [9.9805e-01, 1.5075e-07, 1.4732e-03, 4.7677e-04],\n",
       "        [2.5416e-04, 7.0615e-04, 9.9904e-01, 3.2622e-07],\n",
       "        [2.8887e-05, 1.1066e-03, 9.9886e-01, 5.4247e-08],\n",
       "        [3.8118e-05, 1.1058e-03, 9.9886e-01, 7.2484e-08],\n",
       "        [3.0347e-04, 6.0395e-04, 9.9909e-01, 3.3416e-07],\n",
       "        [7.2079e-04, 5.1911e-04, 9.9876e-01, 6.9829e-07],\n",
       "        [1.3497e-04, 4.7528e-15, 5.7737e-11, 9.9987e-01],\n",
       "        [9.9826e-01, 1.1870e-07, 1.0868e-03, 6.4991e-04],\n",
       "        [7.5828e-06, 2.7796e-17, 5.1071e-13, 9.9999e-01],\n",
       "        [2.5888e-23, 9.9958e-01, 4.2029e-04, 1.6768e-22],\n",
       "        [0.0000e+00, 1.0000e+00, 5.4634e-11, 0.0000e+00],\n",
       "        [4.1154e-06, 7.3511e-18, 1.6062e-13, 1.0000e+00],\n",
       "        [2.7911e-24, 9.9979e-01, 2.1136e-04, 2.0579e-23],\n",
       "        [1.8133e-04, 8.6916e-15, 9.8809e-11, 9.9982e-01],\n",
       "        [1.5392e-22, 9.9943e-01, 5.7031e-04, 8.7201e-22],\n",
       "        [4.0580e-04, 5.6629e-04, 9.9903e-01, 4.2081e-07],\n",
       "        [9.9815e-01, 1.4068e-07, 1.3085e-03, 5.4249e-04],\n",
       "        [7.3735e-13, 2.8932e-33, 1.2566e-26, 1.0000e+00],\n",
       "        [9.9791e-01, 1.7169e-07, 1.6197e-03, 4.6796e-04],\n",
       "        [4.8731e-23, 9.9953e-01, 4.6826e-04, 3.0164e-22],\n",
       "        [2.4854e-32, 1.0000e+00, 2.6000e-06, 6.1539e-31],\n",
       "        [1.3501e-08, 1.3844e-22, 8.9213e-18, 1.0000e+00],\n",
       "        [4.0294e-30, 9.9999e-01, 9.0414e-06, 7.0934e-29],\n",
       "        [9.9834e-01, 1.1190e-07, 1.1171e-03, 5.4049e-04],\n",
       "        [9.9822e-01, 1.2651e-07, 1.1447e-03, 6.4026e-04],\n",
       "        [5.7052e-10, 4.9812e-26, 1.2455e-20, 1.0000e+00],\n",
       "        [6.8969e-31, 9.9999e-01, 4.9804e-06, 1.3581e-29],\n",
       "        [9.9850e-01, 7.2587e-08, 7.6177e-04, 7.3413e-04],\n",
       "        [1.2070e-04, 7.9436e-04, 9.9908e-01, 1.6801e-07],\n",
       "        [3.2429e-27, 9.9996e-01, 4.0855e-05, 3.6778e-26],\n",
       "        [1.7187e-19, 9.9621e-01, 3.7903e-03, 6.3455e-19],\n",
       "        [1.1983e-05, 1.4214e-03, 9.9857e-01, 2.7343e-08],\n",
       "        [7.6950e-05, 8.4949e-04, 9.9907e-01, 1.1331e-07],\n",
       "        [6.6415e-06, 1.5514e-03, 9.9844e-01, 1.6436e-08],\n",
       "        [1.7775e-04, 7.1856e-04, 9.9910e-01, 2.2807e-07],\n",
       "        [1.4684e-05, 1.2005e-03, 9.9878e-01, 2.8626e-08],\n",
       "        [5.2949e-04, 5.1351e-04, 9.9896e-01, 4.9961e-07],\n",
       "        [7.9711e-31, 1.0000e+00, 4.1184e-06, 1.5302e-29],\n",
       "        [1.1424e-05, 5.3660e-17, 9.5586e-13, 9.9999e-01],\n",
       "        [9.9775e-01, 1.9131e-07, 1.7791e-03, 4.6671e-04],\n",
       "        [9.9812e-01, 1.4513e-07, 1.2695e-03, 6.1302e-04],\n",
       "        [1.8338e-04, 6.7337e-04, 9.9914e-01, 2.2115e-07],\n",
       "        [6.2014e-04, 5.4246e-04, 9.9884e-01, 6.2858e-07],\n",
       "        [1.0718e-06, 6.7873e-19, 1.7886e-14, 1.0000e+00],\n",
       "        [1.5212e-04, 7.2920e-15, 8.0972e-11, 9.9985e-01],\n",
       "        [9.9794e-01, 1.7100e-07, 1.5601e-03, 4.9954e-04],\n",
       "        [1.9676e-19, 9.9655e-01, 3.4512e-03, 7.0600e-19],\n",
       "        [2.0184e-05, 1.5353e-03, 9.9844e-01, 5.1509e-08],\n",
       "        [1.6380e-04, 7.5426e-15, 8.5511e-11, 9.9984e-01],\n",
       "        [9.9779e-01, 1.8826e-07, 1.7575e-03, 4.5124e-04],\n",
       "        [5.4499e-28, 9.9996e-01, 3.8032e-05, 7.2371e-27],\n",
       "        [9.9823e-01, 1.2167e-07, 1.0919e-03, 6.8043e-04],\n",
       "        [1.7804e-04, 8.7373e-15, 9.8265e-11, 9.9982e-01],\n",
       "        [9.9821e-01, 1.2724e-07, 1.1443e-03, 6.4067e-04],\n",
       "        [2.7731e-23, 0.0000e+00, 0.0000e+00, 1.0000e+00],\n",
       "        [9.9804e-01, 1.5415e-07, 1.4841e-03, 4.7927e-04],\n",
       "        [9.8458e-05, 3.0648e-15, 3.7350e-11, 9.9990e-01],\n",
       "        [9.9847e-01, 8.7152e-08, 8.9957e-04, 6.2571e-04],\n",
       "        [3.7046e-05, 9.9432e-04, 9.9897e-01, 6.0815e-08],\n",
       "        [1.1765e-04, 3.9685e-15, 4.8093e-11, 9.9988e-01],\n",
       "        [9.9811e-01, 1.4526e-07, 1.4192e-03, 4.7438e-04],\n",
       "        [3.2653e-25, 9.9988e-01, 1.2485e-04, 2.7286e-24],\n",
       "        [1.1818e-04, 7.9587e-04, 9.9909e-01, 1.6643e-07],\n",
       "        [1.2339e-07, 1.3793e-20, 5.0248e-16, 1.0000e+00],\n",
       "        [7.4859e-05, 1.8123e-15, 2.3316e-11, 9.9993e-01],\n",
       "        [9.9824e-01, 1.2029e-07, 1.0921e-03, 6.6303e-04],\n",
       "        [1.4658e-04, 5.9990e-15, 7.0154e-11, 9.9985e-01],\n",
       "        [2.3988e-05, 1.0973e-03, 9.9888e-01, 4.4143e-08],\n",
       "        [2.8331e-23, 9.9968e-01, 3.1689e-04, 1.7496e-22],\n",
       "        [9.9845e-01, 6.2108e-08, 6.6074e-04, 8.9003e-04],\n",
       "        [1.2139e-04, 7.7567e-04, 9.9910e-01, 1.6554e-07],\n",
       "        [1.3373e-20, 9.9824e-01, 1.7568e-03, 5.7065e-20],\n",
       "        [9.9761e-01, 2.1006e-07, 1.9216e-03, 4.6583e-04],\n",
       "        [1.7268e-04, 7.3402e-04, 9.9909e-01, 2.2528e-07],\n",
       "        [9.9830e-01, 1.1208e-07, 1.0459e-03, 6.5294e-04],\n",
       "        [2.2272e-04, 6.6890e-04, 9.9911e-01, 2.6704e-07],\n",
       "        [2.1216e-06, 2.8389e-18, 6.2936e-14, 1.0000e+00],\n",
       "        [1.3680e-04, 5.0196e-15, 6.0381e-11, 9.9986e-01],\n",
       "        [1.2960e-04, 5.5715e-15, 6.3033e-11, 9.9987e-01]],\n",
       "       grad_fn=<SoftmaxBackward0>)"
      ]
     },
     "execution_count": 44,
     "metadata": {},
     "output_type": "execute_result"
    }
   ],
   "source": [
    "pred"
   ]
  },
  {
   "cell_type": "code",
   "execution_count": null,
   "id": "2a0a3e6a-33c3-4254-8dba-9ea6ae2db7a0",
   "metadata": {},
   "outputs": [],
   "source": []
  }
 ],
 "metadata": {
  "kernelspec": {
   "display_name": "Python 3 (ipykernel)",
   "language": "python",
   "name": "python3"
  },
  "language_info": {
   "codemirror_mode": {
    "name": "ipython",
    "version": 3
   },
   "file_extension": ".py",
   "mimetype": "text/x-python",
   "name": "python",
   "nbconvert_exporter": "python",
   "pygments_lexer": "ipython3",
   "version": "3.10.11"
  }
 },
 "nbformat": 4,
 "nbformat_minor": 5
}
